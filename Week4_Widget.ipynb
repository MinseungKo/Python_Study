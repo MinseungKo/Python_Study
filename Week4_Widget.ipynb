{
 "cells": [
  {
   "cell_type": "code",
   "execution_count": 1,
   "metadata": {},
   "outputs": [],
   "source": [
    "import sys\n",
    "from PyQt5.QtWidgets import *\n",
    "from random import *\n",
    "import numpy as np"
   ]
  },
  {
   "cell_type": "code",
   "execution_count": 2,
   "metadata": {},
   "outputs": [
    {
     "name": "stdout",
     "output_type": "stream",
     "text": [
      "사람의 수는:10명입니다\n",
      "[[10, 9, 4, 6, 5, 3, 7, 1, 2, 8], ['고민승', '김민성', '김상민', '김성준', '김철민', '나종서', '이범주', '이지훈', '이현재', '최유진']]\n",
      "[(1, '이지훈'), (2, '이현재'), (3, '나종서'), (4, '김상민'), (5, '김철민'), (6, '김성준'), (7, '이범주'), (8, '최유진'), (9, '김민성'), (10, '고민승')]\n"
     ]
    },
    {
     "ename": "SystemExit",
     "evalue": "0",
     "output_type": "error",
     "traceback": [
      "An exception has occurred, use %tb to see the full traceback.\n",
      "\u001b[1;31mSystemExit\u001b[0m\u001b[1;31m:\u001b[0m 0\n"
     ]
    },
    {
     "name": "stderr",
     "output_type": "stream",
     "text": [
      "C:\\Users\\smartgrid_AI\\Anaconda3\\envs\\navy\\lib\\site-packages\\IPython\\core\\interactiveshell.py:3351: UserWarning: To exit: use 'exit', 'quit', or Ctrl-D.\n",
      "  warn(\"To exit: use 'exit', 'quit', or Ctrl-D.\", stacklevel=1)\n"
     ]
    }
   ],
   "source": [
    "class MyApp(QWidget):\n",
    "    def __init__(self):\n",
    "        QWidget.__init__(self)\n",
    "        self.setWindowTitle(\"자리 배치 프로그램\")\n",
    " \n",
    "        # QVBox Layout\n",
    "        layout = QGridLayout()\n",
    "        self.setLayout(layout)\n",
    " \n",
    "        self.label = QLabel(\"이름을 입력하세요\")\n",
    "        layout.addWidget(self.label, 0, 0)\n",
    " \n",
    "        self.label0 = QLabel()\n",
    "        layout.addWidget(self.label0, 1, 1)\n",
    " \n",
    "        self.button = QPushButton(\"확인\")\n",
    "        self.button.clicked.connect(self.returnPressed)\n",
    "        layout.addWidget(self.button, 1, 0)\n",
    " \n",
    "        self.lineEdit =QTextEdit()\n",
    "        self.lineEdit.setPlaceholderText(\"enter attendee names\")\n",
    "        self.lineEdit.setGeometry(50,50,250,200)\n",
    "        layout.addWidget(self.lineEdit, 0, 1)\n",
    "        \n",
    "        self.button2 = QPushButton(\"자리배치하기\")\n",
    "        self.button2.clicked.connect(self.arrangement)\n",
    "        layout.addWidget(self.button2, 2, 0)\n",
    "        \n",
    "        self.label1 = QLabel()\n",
    "        layout.addWidget(self.label1, 2, 1)\n",
    " \n",
    "    def returnPressed(self):\n",
    "        text = self.lineEdit.toPlainText()\n",
    "        #print(text)\n",
    "        self.label0.setText(text)\n",
    "    \n",
    "    def arrangement(self):\n",
    "        ss = self.lineEdit.toPlainText()\n",
    "        n = int((len(ss)+1)/4)\n",
    "        print(\"사람의 수는:\"+str(n)+\"명입니다\")\n",
    "        \n",
    "        # \\n 제거 및 list화\n",
    "        s = [ss]\n",
    "        s_list = []\n",
    "        for i in range(n):\n",
    "            if i==0:\n",
    "                s_list.append(s[0][0:3])\n",
    "            else:\n",
    "                s_list.append(s[0][i*4:i*4+3])\n",
    "        seat = []\n",
    "        \n",
    "        # 자리 배정을 위한 random function 활용\n",
    "        for i in range(n):\n",
    "            a = randint(1,n)\n",
    "            while a in seat:\n",
    "                a = randint(1,n)\n",
    "            seat.append(a)\n",
    "        \n",
    "        # Random function에 따른 숫자로 sorting하여 위치 변경\n",
    "        C = [seat, s_list]\n",
    "        print(C)\n",
    "        A = [x for x in zip(*C)]\n",
    "        y = sorted(A, key=lambda A:A[0])\n",
    "        print(y)\n",
    "        \n",
    "        seatarr = np.empty(0, dtype='object')\n",
    "        seatarr = np.append(seatarr,y)\n",
    "        seatarr = seatarr.reshape(-1,2)\n",
    "        s1 = seatarr[:,1].reshape(2,-1)\n",
    "        self.label1.setText(str(s1))\n",
    "        \n",
    "        \n",
    "if __name__ == \"__main__\":\n",
    "    app = QApplication(sys.argv)\n",
    "    screen = MyApp()\n",
    "    screen.resize(600, 300)\n",
    "    screen.show()\n",
    "    sys.exit(app.exec_())"
   ]
  },
  {
   "cell_type": "code",
   "execution_count": null,
   "metadata": {},
   "outputs": [],
   "source": []
  }
 ],
 "metadata": {
  "kernelspec": {
   "display_name": "Python 3",
   "language": "python",
   "name": "python3"
  },
  "language_info": {
   "codemirror_mode": {
    "name": "ipython",
    "version": 3
   },
   "file_extension": ".py",
   "mimetype": "text/x-python",
   "name": "python",
   "nbconvert_exporter": "python",
   "pygments_lexer": "ipython3",
   "version": "3.6.12"
  }
 },
 "nbformat": 4,
 "nbformat_minor": 4
}
