{
 "cells": [
  {
   "cell_type": "code",
   "execution_count": 1,
   "metadata": {},
   "outputs": [
    {
     "name": "stdin",
     "output_type": "stream",
     "text": [
      "사람 수를 입력하시오:  10\n"
     ]
    }
   ],
   "source": [
    "n = int(input(\"사람 수를 입력하시오: \"))"
   ]
  },
  {
   "cell_type": "code",
   "execution_count": 2,
   "metadata": {},
   "outputs": [
    {
     "name": "stdin",
     "output_type": "stream",
     "text": [
      " 고민승\n",
      " 김민성\n",
      " 김상민\n",
      " 김성준\n",
      " 김철민\n",
      " 나종서\n",
      " 이범주\n",
      " 이지훈\n",
      " 이현재\n",
      " 최유진\n"
     ]
    }
   ],
   "source": [
    "s_list = [input() for _ in range(n)]"
   ]
  },
  {
   "cell_type": "code",
   "execution_count": 3,
   "metadata": {},
   "outputs": [
    {
     "name": "stdout",
     "output_type": "stream",
     "text": [
      "1\n",
      "5\n",
      "2\n",
      "8\n",
      "9\n",
      "4\n",
      "6\n",
      "3\n",
      "10\n",
      "7\n"
     ]
    }
   ],
   "source": [
    "from random import *\n",
    "\n",
    "seat = []\n",
    "for i in range(n):\n",
    "    a = randint(1,10)\n",
    "    while a in seat:\n",
    "        a = randint(1,10)\n",
    "    print(a)\n",
    "    seat.append(a)"
   ]
  },
  {
   "cell_type": "code",
   "execution_count": 4,
   "metadata": {},
   "outputs": [
    {
     "data": {
      "text/plain": [
       "([1, 5, 2, 8, 9, 4, 6, 3, 10, 7],\n",
       " ['고민승', '김민성', '김상민', '김성준', '김철민', '나종서', '이범주', '이지훈', '이현재', '최유진'])"
      ]
     },
     "execution_count": 4,
     "metadata": {},
     "output_type": "execute_result"
    }
   ],
   "source": [
    "seat, s_list"
   ]
  },
  {
   "cell_type": "code",
   "execution_count": 5,
   "metadata": {},
   "outputs": [
    {
     "data": {
      "text/plain": [
       "([(1, '고민승'),\n",
       "  (5, '김민성'),\n",
       "  (2, '김상민'),\n",
       "  (8, '김성준'),\n",
       "  (9, '김철민'),\n",
       "  (4, '나종서'),\n",
       "  (6, '이범주'),\n",
       "  (3, '이지훈'),\n",
       "  (10, '이현재'),\n",
       "  (7, '최유진')],\n",
       " [[1, 5, 2, 8, 9, 4, 6, 3, 10, 7],\n",
       "  ['고민승', '김민성', '김상민', '김성준', '김철민', '나종서', '이범주', '이지훈', '이현재', '최유진']])"
      ]
     },
     "execution_count": 5,
     "metadata": {},
     "output_type": "execute_result"
    }
   ],
   "source": [
    "C = [seat, s_list]\n",
    "A = [x for x in zip(*C)]\n",
    "A, C"
   ]
  },
  {
   "cell_type": "code",
   "execution_count": 6,
   "metadata": {},
   "outputs": [
    {
     "data": {
      "text/plain": [
       "[(1, '고민승'),\n",
       " (2, '김상민'),\n",
       " (3, '이지훈'),\n",
       " (4, '나종서'),\n",
       " (5, '김민성'),\n",
       " (6, '이범주'),\n",
       " (7, '최유진'),\n",
       " (8, '김성준'),\n",
       " (9, '김철민'),\n",
       " (10, '이현재')]"
      ]
     },
     "execution_count": 6,
     "metadata": {},
     "output_type": "execute_result"
    }
   ],
   "source": [
    "y = sorted(A, key=lambda A:A[0])\n",
    "y"
   ]
  },
  {
   "cell_type": "code",
   "execution_count": 7,
   "metadata": {},
   "outputs": [],
   "source": [
    "import numpy as np\n",
    "seatarr = np.empty(0, dtype='object')\n",
    "seatarr = np.append(seatarr,y)"
   ]
  },
  {
   "cell_type": "code",
   "execution_count": 8,
   "metadata": {},
   "outputs": [
    {
     "data": {
      "text/plain": [
       "(array(['1', '고민승', '2', '김상민', '3', '이지훈', '4', '나종서', '5', '김민성', '6',\n",
       "        '이범주', '7', '최유진', '8', '김성준', '9', '김철민', '10', '이현재'],\n",
       "       dtype=object),\n",
       " (20,))"
      ]
     },
     "execution_count": 8,
     "metadata": {},
     "output_type": "execute_result"
    }
   ],
   "source": [
    "seatarr, seatarr.shape"
   ]
  },
  {
   "cell_type": "code",
   "execution_count": 9,
   "metadata": {},
   "outputs": [
    {
     "data": {
      "text/plain": [
       "array([['1', '고민승'],\n",
       "       ['2', '김상민'],\n",
       "       ['3', '이지훈'],\n",
       "       ['4', '나종서'],\n",
       "       ['5', '김민성'],\n",
       "       ['6', '이범주'],\n",
       "       ['7', '최유진'],\n",
       "       ['8', '김성준'],\n",
       "       ['9', '김철민'],\n",
       "       ['10', '이현재']], dtype=object)"
      ]
     },
     "execution_count": 9,
     "metadata": {},
     "output_type": "execute_result"
    }
   ],
   "source": [
    "seatarr = seatarr.reshape(-1,2)\n",
    "seatarr"
   ]
  },
  {
   "cell_type": "code",
   "execution_count": 10,
   "metadata": {},
   "outputs": [],
   "source": [
    "s0 = np.array(seatarr[:,0], dtype='int').reshape(-1,1)\n",
    "s1 = seatarr[:,1].reshape(-1,1)"
   ]
  },
  {
   "cell_type": "code",
   "execution_count": 11,
   "metadata": {},
   "outputs": [
    {
     "data": {
      "text/plain": [
       "array([['고민승'],\n",
       "       ['김상민'],\n",
       "       ['이지훈'],\n",
       "       ['나종서'],\n",
       "       ['김민성'],\n",
       "       ['이범주'],\n",
       "       ['최유진'],\n",
       "       ['김성준'],\n",
       "       ['김철민'],\n",
       "       ['이현재']], dtype=object)"
      ]
     },
     "execution_count": 11,
     "metadata": {},
     "output_type": "execute_result"
    }
   ],
   "source": [
    "s1"
   ]
  },
  {
   "cell_type": "code",
   "execution_count": 14,
   "metadata": {},
   "outputs": [],
   "source": [
    "s1 = s1.reshape(2,-1)"
   ]
  },
  {
   "cell_type": "code",
   "execution_count": 15,
   "metadata": {},
   "outputs": [
    {
     "data": {
      "text/plain": [
       "array([['고민승', '김상민', '이지훈', '나종서', '김민성'],\n",
       "       ['이범주', '최유진', '김성준', '김철민', '이현재']], dtype=object)"
      ]
     },
     "execution_count": 15,
     "metadata": {},
     "output_type": "execute_result"
    }
   ],
   "source": [
    "s1"
   ]
  },
  {
   "cell_type": "code",
   "execution_count": 16,
   "metadata": {},
   "outputs": [
    {
     "data": {
      "text/plain": [
       "\"[['고민승' '김상민' '이지훈' '나종서' '김민성']\\n ['이범주' '최유진' '김성준' '김철민' '이현재']]\""
      ]
     },
     "execution_count": 16,
     "metadata": {},
     "output_type": "execute_result"
    }
   ],
   "source": [
    "sss=str(s1)\n",
    "sss"
   ]
  },
  {
   "cell_type": "code",
   "execution_count": null,
   "metadata": {},
   "outputs": [],
   "source": []
  }
 ],
 "metadata": {
  "kernelspec": {
   "display_name": "Python 3",
   "language": "python",
   "name": "python3"
  },
  "language_info": {
   "codemirror_mode": {
    "name": "ipython",
    "version": 3
   },
   "file_extension": ".py",
   "mimetype": "text/x-python",
   "name": "python",
   "nbconvert_exporter": "python",
   "pygments_lexer": "ipython3",
   "version": "3.6.12"
  }
 },
 "nbformat": 4,
 "nbformat_minor": 4
}
